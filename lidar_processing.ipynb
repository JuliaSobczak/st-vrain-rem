{
 "cells": [
  {
   "cell_type": "code",
   "execution_count": 1,
   "id": "d49da860",
   "metadata": {},
   "outputs": [],
   "source": [
    "# Import packages\n",
    "import os\n",
    "import pathlib\n",
    "import zipfile\n",
    "\n",
    "import geopandas as gpd\n",
    "from IPython.display import clear_output\n",
    "import load_model\n",
    "import matplotlib.pyplot as plt\n",
    "import numpy as np\n",
    "from riverrem.REMMaker import REMMaker, clear_osm_cache\n",
    "import requests\n",
    "import rioxarray as rxr\n",
    "from rioxarray.merge import merge_arrays\n",
    "from time import sleep"
   ]
  },
  {
   "cell_type": "code",
   "execution_count": 2,
   "id": "cb5f9f39",
   "metadata": {},
   "outputs": [
    {
     "name": "stdout",
     "output_type": "stream",
     "text": [
      "/Users/lchipman/st-vrain-rem-wkdir/data is now the working directory\n"
     ]
    }
   ],
   "source": [
    "# Set working directory\n",
    "working_dir = os.path.join(\n",
    "    pathlib.Path.home(), 'st-vrain-rem-wkdir', 'data')\n",
    "\n",
    "# Try/Except Block   \n",
    "try:\n",
    "    os.chdir(working_dir)\n",
    "except:\n",
    "    print('{} does not exist. Creating...'.format(working_dir))\n",
    "    os.makedirs(working_dir)\n",
    "    os.chdir(working_dir)\n",
    "else:\n",
    "    print('{} is now the working directory'.format(working_dir))"
   ]
  },
  {
   "cell_type": "markdown",
   "id": "49b7e0a3",
   "metadata": {},
   "source": [
    "# Load the site information into dictionaries\n",
    "## Load the LiDAR DTMs\n",
    "\n",
    "In download and unzip lidar step, - ideally would download from CO hs site, but there is no direct link. I uploaded zip files to git, and had to change the file content names bc otherwise  running into issues unzipping - the extracted files include root directory in filename, and the name is not callable"
   ]
  },
  {
   "cell_type": "code",
   "execution_count": 3,
   "id": "f8bc8276",
   "metadata": {},
   "outputs": [],
   "source": [
    "# Call the function to create dictionaries for the sites.\n",
    "site_names = ['applevalley']#, 'hallmeadows', 'hallmeadows2', 'highway93']\n",
    "site_lidar_urls = load_model.get_lidar_url(site_names=site_names)"
   ]
  },
  {
   "cell_type": "code",
   "execution_count": 4,
   "id": "d06fa8ec",
   "metadata": {},
   "outputs": [],
   "source": [
    "# Download and unzip lidar, save the lidar DTMs to the dictionaries\n",
    "for site in site_lidar_urls:\n",
    "    site['lidar_dtm'] = load_model.load_dtm(data_url=site['lidar_url'], \n",
    "                                     site_name=site['site_name'],\n",
    "                                     file_name=site['zip_filename'])\n",
    "# Merge the 2 hallmeadows tiles and replace dtm:\n",
    "for site in site_lidar_urls:\n",
    "    if site['site_name'] == 'hallmeadows':\n",
    "        site['lidar_dtm'] = (merge_arrays(dataarrays = [site_lidar_urls[1]['lidar_dtm'], \n",
    "                                                        site_lidar_urls[2]['lidar_dtm']]))\n",
    "    if site['site_name'] == 'hallmeadows2':\n",
    "        site_lidar_urls.remove(site)"
   ]
  },
  {
   "cell_type": "markdown",
   "id": "e4f6d9d1",
   "metadata": {},
   "source": [
    "## Load the Area of Interest (AOI)"
   ]
  },
  {
   "cell_type": "code",
   "execution_count": 5,
   "id": "30cdcb0b",
   "metadata": {},
   "outputs": [],
   "source": [
    "# Call function to create bounding polygon gdf for each site, save to site_lidar_urls\n",
    "shape_url = ('https://github.com/lechipman/watershed-project/'\n",
    "                 'releases/download/v2.0.0/shapefiles.zip')\n",
    "\n",
    "for site in site_lidar_urls:\n",
    "    site['bounding_polygon'] = (load_model.get_boundary_gdf(\n",
    "                                data_url=shape_url, \n",
    "                                site_name=site['site_name']))"
   ]
  },
  {
   "cell_type": "markdown",
   "id": "fe64e70c",
   "metadata": {},
   "source": [
    "## Load the UAV DTMs and REMs"
   ]
  },
  {
   "cell_type": "code",
   "execution_count": 6,
   "id": "88a4c61a",
   "metadata": {},
   "outputs": [],
   "source": [
    "# Call function to download the UAV DTMs and REMs and add to dictionary\n",
    "# Note at this step, the main dictionary name is changes to site_data_dictionary\n",
    "site_data_dictionary = load_model.get_uav_dtms(site_data_dictionary=site_lidar_urls)"
   ]
  },
  {
   "cell_type": "markdown",
   "id": "83980fa6",
   "metadata": {},
   "source": [
    "## Clip the LiDAR and UAV DTMs to the AOI"
   ]
  },
  {
   "cell_type": "code",
   "execution_count": 7,
   "id": "700d60b5",
   "metadata": {},
   "outputs": [],
   "source": [
    "# Clip the lidar dtm to bounding polygon, convert to meters, and add to dictionary\n",
    "# Note the dtm.clip function saves the clipped dtm for use in the remmaker\n",
    "for site in site_data_dictionary:\n",
    "    site['lidar_clipped_dtm'] = (load_model.dtm_clip(site_name = site['site_name'],\n",
    "                                          site_dtm = site['lidar_dtm'],\n",
    "                                          clip_gdf = site['bounding_polygon'],\n",
    "                                          is_lidar=True))\n",
    "# Clip the uav dtm to bounding polygon and add to dictionary\n",
    "for site in site_data_dictionary:\n",
    "    site['uav_clipped_dtm'] = (load_model.dtm_clip(site_name = site['site_name'],\n",
    "                                        site_dtm = site['uav_dtm'],\n",
    "                                        clip_gdf = site['bounding_polygon'],\n",
    "                                        is_lidar=False))"
   ]
  },
  {
   "cell_type": "markdown",
   "id": "55408ea5",
   "metadata": {},
   "source": [
    "## Plot the LiDAR and UAV DTMs\n",
    "* The LiDAR and UAV DTMs look similar with the exception of Hall Meadows. This is because there were 2 overlapping LiDAR tiles for the Hall Meadows site, and it appears that they did not merge well, likely because the elevations were different. We need to look into adjusting the elevations of merged tiles to match."
   ]
  },
  {
   "cell_type": "code",
   "execution_count": null,
   "id": "44a29c3c",
   "metadata": {},
   "outputs": [],
   "source": [
    "# Call function to plot UAV and Lidar DTMs\n",
    "fig, axes = plt.subplots(1, 3, figsize=(18, 6))\n",
    "plot_title = ['Apple Valley UAV DTM', \n",
    "              'Hall Meadows UAV DTM',\n",
    "              'Highway93 UAV DTM']\n",
    "for i,axe in enumerate(axes.flatten()):\n",
    "    load_model.plot_model(model=site_data_dictionary[i]['uav_clipped_dtm'], \n",
    "                   title=plot_title[i],\n",
    "                   cbar_label='Elevation (meters)',\n",
    "                   coarsen=True, xpix=20, ypix=20,\n",
    "                   fig=fig,ax=axe,\n",
    "                   cmap='Blues')\n",
    "    \n",
    "fig, axes = plt.subplots(1, 3, figsize=(18, 6))\n",
    "plot_title = ['Apple Valley LiDAR DTM', \n",
    "              'Hall Meadows LiDAR DTM',\n",
    "              'Highway93 LiDAR DTM']\n",
    "for i,axe in enumerate(axes.flatten()):\n",
    "    load_model.plot_model(model=site_data_dictionary[i]['lidar_clipped_dtm'], \n",
    "                   title=plot_title[i],\n",
    "                   cbar_label='Elevation (meters)',\n",
    "                   coarsen=False,\n",
    "                   fig=fig, ax=axe,\n",
    "                   cmap='Blues')"
   ]
  },
  {
   "cell_type": "markdown",
   "id": "563929a2",
   "metadata": {},
   "source": [
    "## Plot the LiDAR and UAV DTM histograms"
   ]
  },
  {
   "cell_type": "code",
   "execution_count": null,
   "id": "0385ba24",
   "metadata": {},
   "outputs": [],
   "source": [
    "# Call function to plot histogram of lidar and UAV DTMs\n",
    "fig, axes = plt.subplots(1, 3, figsize=(18, 6))\n",
    "plot_title = ['Apple Valley',\n",
    "              'Hall Meadows',\n",
    "              'Highway93']\n",
    "\n",
    "for i, axe in enumerate(axes.flatten()):\n",
    "    load_model.plot_hists(model=site_data_dictionary[i]['uav_clipped_dtm'], \n",
    "               titles=plot_title[i],\n",
    "               main_title='UAV DTM Histograms',\n",
    "               color=('cyan'),\n",
    "               ax=axe, \n",
    "               fig=fig)\n",
    "    \n",
    "# Call function to plot histogram of lidar DTMs\n",
    "fig, axes = plt.subplots(1, 3, figsize=(18, 6))\n",
    "plot_title = ['Apple Valley',\n",
    "              'Hall Meadows',\n",
    "              'Highway93']\n",
    "\n",
    "for i, axe in enumerate(axes.flatten()):\n",
    "    load_model.plot_hists(model=site_data_dictionary[i]['lidar_clipped_dtm'], \n",
    "               titles=plot_title[i],\n",
    "               main_title='LiDAR DTM Histograms',\n",
    "               color=('cyan'),\n",
    "               ax=axe,\n",
    "               fig=fig)"
   ]
  },
  {
   "cell_type": "markdown",
   "id": "d2031523",
   "metadata": {},
   "source": [
    "# Create LiDAR REMs Using REMMaker Tool"
   ]
  },
  {
   "cell_type": "code",
   "execution_count": 8,
   "id": "f5812bed",
   "metadata": {},
   "outputs": [
    {
     "name": "stdout",
     "output_type": "stream",
     "text": [
      "The LiDAR REMMaker REM already exists. Not running REMMaker\n"
     ]
    }
   ],
   "source": [
    "# Create LiDAR REMs for all sites with run_rem_maker_lidar function, add to dict\n",
    "# Note, the run_rem_maker_lidar function set the directories and paths so that a new\n",
    "# directory 'rem_maker_lidar' and file ''{}_lidar_dtm_REM.tif' is created\n",
    "for site in site_data_dictionary:\n",
    "    load_model.run_rem_maker_lidar(site_name=site['site_name'])\n",
    "    lidar_rem_path = os.path.join(site['site_name'],\n",
    "                                  'remmaker_lidar',\n",
    "                                  '{}_lidar_clipped_dtm_REM.tif').format(site['site_name'])\n",
    "    lidar_remmaker = rxr.open_rasterio(lidar_rem_path, masked=True)\n",
    "    site['lidar_remmaker'] = lidar_remmaker*0.3048"
   ]
  },
  {
   "cell_type": "markdown",
   "id": "c87ae892",
   "metadata": {},
   "source": [
    "## Create UAV REMs Using REMMaker Tool"
   ]
  },
  {
   "cell_type": "code",
   "execution_count": 9,
   "id": "f3856596",
   "metadata": {},
   "outputs": [
    {
     "name": "stdout",
     "output_type": "stream",
     "text": [
      "The UAV REMMaker REM already exists. Not running REMMaker\n"
     ]
    }
   ],
   "source": [
    "# Create UAV REMs for all sites with run_rem_maker function, add to dict\n",
    "# The function creates new directory and file similar to the run_rem_maker_lidar function\n",
    "for site in site_data_dictionary:\n",
    "    load_model.run_rem_maker(site_name=site['site_name'], k=100)\n",
    "    uav_rem_path = os.path.join(site['site_name'],\n",
    "                                  'remmaker',\n",
    "                                  '{}_clipped_dtm_REM.tif').format(site['site_name'])\n",
    "    site['uav_remmaker'] = rxr.open_rasterio(uav_rem_path, masked=True)"
   ]
  },
  {
   "cell_type": "markdown",
   "id": "8e52d91f",
   "metadata": {},
   "source": [
    "# Plot the UAV and LiDAR Derived REMs"
   ]
  },
  {
   "cell_type": "code",
   "execution_count": null,
   "id": "3c45c365",
   "metadata": {
    "scrolled": true
   },
   "outputs": [],
   "source": [
    "# Call function to plot UAV and LiDAR REMs \n",
    "# 1: UAV REMs (CWCB Tool)\n",
    "fig, axes = plt.subplots(1, 1, figsize=(18, 6))\n",
    "plot_title = ['Apple Valley, UAV ArcMap Tool', \n",
    "              'Hall Meadows, UAV ArcMap Tool',\n",
    "              'Highway93, UAV ArcMap Tool']\n",
    "for i,axe in enumerate(axes.flatten()):\n",
    "    load_model.plot_model(model=site_data_dictionary[i]['uav_rem'], \n",
    "                   title=plot_title[i],\n",
    "                   coarsen=True,\n",
    "                   cbar_label='Relative Elevation (meters)',\n",
    "                   xpix=20, ypix=20,\n",
    "                   fig=fig, ax=axe, \n",
    "                   cmap='Blues')\n",
    "\n",
    "# 2: UAV REMs (REMMaker Tool)\n",
    "fig, axes = plt.subplots(1, 3, figsize=(18, 6))\n",
    "plot_title = ['Apple Valley, UAV Python Tool', \n",
    "              'Hall Meadows, UAV Python Tool',\n",
    "              'Highway93, UAV Python Tool']\n",
    "for i,axe in enumerate(axes.flatten()):\n",
    "    load_model.plot_model(model=site_data_dictionary[i]['uav_remmaker'], \n",
    "                   title=plot_title[i],\n",
    "                   cbar_label='Relative Elevation (meters)',\n",
    "                   coarsen=True,\n",
    "                   xpix=20,\n",
    "                   ypix=20,\n",
    "                   fig=fig,\n",
    "                   ax=axe, \n",
    "                   cmap='Blues')\n",
    "    \n",
    "# 3: Lidar REMs (REMMaker Tool)\n",
    "fig, axes = plt.subplots(1, 3, figsize=(18, 6))\n",
    "plot_title = ['Apple Valley, LiDAR Python Tool', \n",
    "              'Hall Meadows, LiDAR Python Tool',\n",
    "              'Highway93, LiDAR Python Tool']\n",
    "for i,axe in enumerate(axes.flatten()):\n",
    "    load_model.plot_model(model=site_data_dictionary[i]['lidar_remmaker'], \n",
    "                   title=plot_title[i],\n",
    "                   cbar_label='Relative Elevation (meters)',\n",
    "                   coarsen=False,\n",
    "                   fig=fig,\n",
    "                   ax=axe,\n",
    "                   cmap='Blues')"
   ]
  },
  {
   "cell_type": "markdown",
   "id": "37244622",
   "metadata": {},
   "source": [
    "## LiDAR and UAV REMMaker Histograms"
   ]
  },
  {
   "cell_type": "code",
   "execution_count": null,
   "id": "b0812929",
   "metadata": {},
   "outputs": [],
   "source": [
    "# Call function to plot histograms of LiDAR and UAV REMs\n",
    "# 1: UAV REMs (CWCB Tool)\n",
    "fig, axes = plt.subplots(1, 3, figsize=(18, 6))\n",
    "plot_title = ['Apple Valley',\n",
    "              'Hall Meadows',\n",
    "              'Highway93']\n",
    "\n",
    "for i, axe in enumerate(axes.flatten()):\n",
    "    load_model.plot_hists(model=site_data_dictionary[i]['uav_rem'], \n",
    "               titles=plot_title[i],\n",
    "               main_title='UAV ArcMap Tool Histograms',\n",
    "               color=('darkorange'),\n",
    "               fig=fig,\n",
    "               ax=axe)\n",
    "\n",
    "# 2: UAV REMs (REMMaker Tool)\n",
    "# Note, I didn't rerun REMMaker with the clipped UAV DTM yet, so the REM appears unclipped\n",
    "fig, axes = plt.subplots(1, 3, figsize=(18, 6))\n",
    "plot_title = ['Apple Valley',\n",
    "              'Hall Meadows',\n",
    "              'Highway93']\n",
    "\n",
    "for i, axe in enumerate(axes.flatten()):\n",
    "    load_model.plot_hists(model=site_data_dictionary[i]['uav_remmaker'], \n",
    "               titles=plot_title[i],\n",
    "               main_title='UAV Python Tool Histograms',\n",
    "               color=('forestgreen'),\n",
    "               fig=fig,\n",
    "               ax=axe)\n",
    "    \n",
    "# 2: LiDAR REMs (REMMaker Tool)\n",
    "fig, axes = plt.subplots(1, 3, figsize=(18, 6))\n",
    "plot_title = ['Apple Valley',\n",
    "              'Hall Meadows',\n",
    "              'Highway93']\n",
    "\n",
    "for i, axe in enumerate(axes.flatten()):\n",
    "    load_model.plot_hists(model=site_data_dictionary[i]['lidar_remmaker'], \n",
    "               titles=plot_title[i],\n",
    "               main_title='LiDAR Python Tool Histograms',\n",
    "               color=('royalblue'),\n",
    "               fig=fig,\n",
    "               ax=axe)"
   ]
  },
  {
   "cell_type": "markdown",
   "id": "1c1cf54b",
   "metadata": {},
   "source": [
    "## Flood mapping\n",
    "* A Flood Map shows the area that would become inundated if the water level rises to a given elevation. \n",
    "* We conducted a very basic simulation where we sequentially increased the elevation to a threshold elevation that represents the water level from a floodiing event, and assumed that any pixel in the REM raster below the threshhold would become inundated. We conducted the simulation using both the UAV and LiDAR REMs, and then calculated the innundated area for each water level. Finally, we compared the area flooded area produced by using the both the UAV and LiDAR REMs to see how they compare for predicting floods."
   ]
  },
  {
   "cell_type": "code",
   "execution_count": null,
   "id": "5966a40e",
   "metadata": {},
   "outputs": [],
   "source": [
    "# Delete this cell\n",
    "# resolutions are off except for lidar DTM - using this resolution for now,\n",
    "# update later 2.5 ft = 0.762 m\n",
    "(site_data_dictionary[2]['uav_dtm'].rio.resolution(), \n",
    " site_data_dictionary[2]['uav_rem'].rio.resolution(),\n",
    "site_data_dictionary[2]['lidar_dtm'].rio.resolution(),\n",
    "site_data_dictionary[2]['lidar_remmaker'].rio.resolution(),\n",
    "site_data_dictionary[2]['uav_remmaker'].rio.resolution()) \n",
    "# Compute pixel area based on resolution \n",
    "        #lidarx, lidary = threshold_lidar_da.rio.resolution()\n",
    "        #lidar_area=lidarx*lidary\n",
    "        #uavx, uavy = threshold_uav_da.rio.resolution()\n",
    "          #uav_area=uavx, uavy"
   ]
  },
  {
   "cell_type": "code",
   "execution_count": null,
   "id": "c58bbf1d",
   "metadata": {},
   "outputs": [],
   "source": [
    "# Delete this cell\n",
    "# Area of the highway 93 AOI (bounding polygon), 2.5ft=0.762m\n",
    "lidar_pixel_size = 0.762\n",
    "lidar_pixel_area = 0.762*0.762\n",
    "lidar_count = site_data_dictionary[2]['lidar_remmaker'].size\n",
    "total_lidar_area = lidar_count*lidar_pixel_area"
   ]
  },
  {
   "cell_type": "code",
   "execution_count": null,
   "id": "33133703",
   "metadata": {},
   "outputs": [],
   "source": [
    "# Delete this cell\n",
    "# Computing UAV pixel size based on known area\n",
    "uav_count = site_data_dictionary[2]['uav_remmaker'].size\n",
    "uav_pixel_area = (total_lidar_area/uav_count)\n",
    "uav_pixel_size = (total_lidar_area/uav_count)**(1/2)"
   ]
  },
  {
   "cell_type": "code",
   "execution_count": null,
   "id": "0358cd7c",
   "metadata": {},
   "outputs": [],
   "source": [
    "# Function to create flood map arrays - need to update pixel size/area\n",
    "def flood_map(thresholds, uav_rem, lidar_rem):\n",
    "    \"\"\"Creates lists of floodmaps and inundated area\n",
    "    \n",
    "    Parameters\n",
    "    ------------\n",
    "    thresholds: list\n",
    "        A list of the water level thresholds.\n",
    "    uav_rem: dataarray\n",
    "        Dataarray of the UAV REM for a site.\n",
    "    lidar_rem: dataarray\n",
    "        Dataarray of the LiDAR REM for a site.\n",
    "        \n",
    "    Returns\n",
    "    -----------\n",
    "    flood_dictionary: dictionary\n",
    "        A dictionary containing lists of uav and lidar floodmaps \n",
    "        and inundated areas.\n",
    "    \"\"\"\n",
    "    \n",
    "    for threshold in threshold_values:\n",
    "        # The threshold da is all points > threshold\n",
    "        threshold_uav_da=(uav_rem.where(uav_rem > threshold))\n",
    "        threshold_lidar_da=(lidar_rem.where(lidar_rem > threshold))\n",
    "        # Add threshold da to list\n",
    "        threshold_uav_das.append(threshold_uav_da)\n",
    "        threshold_lidar_das.append(threshold_lidar_da)\n",
    "        \n",
    "        # Compute pixel area based on resolution - use lidar_dtm values for now 2.5 ft = 0.762 m\n",
    "        uav_pixel_area = 0.020850267865945408**2\n",
    "        lidar_pixel_area =  0.762**2\n",
    "\n",
    "        # Compute area inundated - uav\n",
    "        total_uav_count = uav_rem.size\n",
    "        valid_uav_count = int(threshold_uav_da.count().compute())\n",
    "        # Add inundated area to list = nan values*pixel area\n",
    "        uav_area_list.append(\n",
    "            (total_uav_count - valid_uav_count)*uav_pixel_area)\n",
    "\n",
    "        # Compute area inundated - lidar\n",
    "        total_lidar_count = lidar_rem.size\n",
    "        valid_lidar_count = int(threshold_lidar_da.count().compute())\n",
    "        lidar_area_list.append(\n",
    "            (total_lidar_count - valid_lidar_count)*lidar_pixel_area)\n",
    "\n",
    "        # Create a dictionary to store the lists of dataarrays\n",
    "        flood_dictionary = {'threshold_uav_das': threshold_uav_das,\n",
    "                     'threshold_lidar_das': threshold_lidar_das,\n",
    "                     'uav_area_list': uav_area_list,\n",
    "                     'lidar_area_list': lidar_area_list}\n",
    "    \n",
    "    return flood_dictionary"
   ]
  },
  {
   "cell_type": "code",
   "execution_count": null,
   "id": "5f4553e4",
   "metadata": {},
   "outputs": [],
   "source": [
    "# Create lists of floodmaps at different water level thresholds\n",
    "threshold_values = np.arange(-.5, .5, 0.05)\n",
    "threshold_lidar_das = []\n",
    "threshold_uav_das = []\n",
    "uav_area_list = []\n",
    "lidar_area_list = []\n",
    "\n",
    "applevalley_flood_dictionary = flood_map(thresholds = threshold_values, \n",
    "                                         uav_rem = site_data_dictionary[0]['uav_remmaker'],\n",
    "                                         lidar_rem = site_data_dictionary[0]['lidar_remmaker'])\n",
    "threshold_lidar_das = []\n",
    "threshold_uav_das = []\n",
    "uav_area_list = []\n",
    "lidar_area_list = []\n",
    "highway93_flood_dictionary = flood_map(thresholds = threshold_values, \n",
    "                                       uav_rem = site_data_dictionary[2]['uav_remmaker'],\n",
    "                                       lidar_rem = site_data_dictionary[2]['lidar_remmaker'])"
   ]
  },
  {
   "cell_type": "code",
   "execution_count": null,
   "id": "233ca446",
   "metadata": {},
   "outputs": [],
   "source": [
    "# Plot the lidar floodmaps - update subplots to match len(threshold_values)\n",
    "fig, axes = plt.subplots(1, 4, figsize=(20, 6))\n",
    "plot_title = ['Water Level = -0.5 m', 'Water Level = -0.3 m', \n",
    "              'Water Level = -0.1 m', 'Water Level = .3 m']\n",
    "fig.suptitle('Water inundation at Highway 93', fontsize=24)\n",
    "\n",
    "for i, axe in enumerate(axes.flatten()):\n",
    "    load_model.plot_model(model=highway93_flood_dictionary['threshold_lidar_das'][i*5], \n",
    "               title=plot_title[i],\n",
    "               cbar_label='Relative Elevation (m)',\n",
    "               coarsen=False,\n",
    "                #   xpix=100,\n",
    "                 #  ypix=100,\n",
    "                   fig=fig,\n",
    "                   ax=axe,\n",
    "                   cmap='viridis')\n",
    "\n",
    "fig, axes = plt.subplots(1, 4, figsize=(20, 6))\n",
    "plot_title = ['Water Level = -0.5 m', 'Water Level = -0.3 m', \n",
    "              'Water Level = -0.1 m', 'Water Level = .3 m']\n",
    "fig.suptitle('Water inundation at Apple Valley', fontsize=20)\n",
    "\n",
    "for i, axe in enumerate(axes.flatten()):\n",
    "    load_model.plot_model(model=applevalley_flood_dictionary['threshold_lidar_das'][i*5], \n",
    "               title=plot_title[i],\n",
    "               cbar_label='Relative Elevation (m)',\n",
    "               coarsen=False,\n",
    "               #    xpix=100,\n",
    "                #   ypix=100,\n",
    "                   fig=fig,\n",
    "                   ax=axe, \n",
    "                   cmap='viridis')"
   ]
  },
  {
   "cell_type": "markdown",
   "id": "865c9881",
   "metadata": {},
   "source": [
    "## Increased connectivity = greater inundation and less water downstream"
   ]
  },
  {
   "cell_type": "code",
   "execution_count": null,
   "id": "f57e7398",
   "metadata": {},
   "outputs": [],
   "source": [
    "# ADefine plots for simulation\n",
    "def plot_floodmap(plot_da, site, vmin, vmax):\n",
    "    ###\n",
    "    # Plots the floodmap at each threshold\n",
    "    ###\n",
    "    fig, ax = plt.subplots(1, 1, figsize=(10, 6))\n",
    "    im = plot_da.plot(ax=ax, add_colorbar=False, \n",
    "                      cmap='viridis', robust=True, \n",
    "                      vmin=np.nanmin(plot_da), vmax=np.nanmax(plot_da))\n",
    "    cbar = fig.colorbar(im)\n",
    "    cbar.set_label('Relative Elevation (m)', fontsize=16)\n",
    "    ax.set_title('Inundation at {} over increasing water levels'.format(site),\n",
    "          fontsize=20)\n",
    "  \n",
    "    # Hide x and y axes labels and ticks\n",
    "    ax.xaxis.set_tick_params(labelbottom=False)\n",
    "    ax.yaxis.set_tick_params(labelleft=False)\n",
    "    ax.set_xticks([])\n",
    "    ax.set_yticks([])\n",
    "    ax.legend('off')\n",
    "    ax.axis('off')\n",
    "    plt.show()"
   ]
  },
  {
   "cell_type": "code",
   "execution_count": null,
   "id": "b97f6e65",
   "metadata": {},
   "outputs": [],
   "source": [
    "# Highway 93 simulation\n",
    "for threshold_da in highway93_flood_dictionary['threshold_lidar_das']:\n",
    "    plot_floodmap(plot_da=threshold_da, site='Highway 93', vmin = 0, vmax = 8)\n",
    "    sleep(0.01)\n",
    "    clear_output(wait=True)"
   ]
  },
  {
   "cell_type": "markdown",
   "id": "f05d560e",
   "metadata": {},
   "source": [
    "## Decreased connectivity = less inundation and more water travelling downstream"
   ]
  },
  {
   "cell_type": "code",
   "execution_count": null,
   "id": "4f415d50",
   "metadata": {},
   "outputs": [],
   "source": [
    "# Apple Valley simulation\n",
    "for threshold_da in applevalley_flood_dictionary['threshold_lidar_das']:\n",
    "    plot_floodmap(plot_da=threshold_da, site='Apple Valley', vmin = 0, vmax = 2.5)\n",
    "    sleep(0.01)\n",
    "    clear_output(wait=True)"
   ]
  },
  {
   "cell_type": "code",
   "execution_count": null,
   "id": "54e0b81c",
   "metadata": {},
   "outputs": [],
   "source": [
    "# Delete this cell\n",
    "# Save plot frames for animation\n",
    "gif_dir = 'applevalley_gif'\n",
    "if not os.path.exists(gif_dir):\n",
    "    os.makedirs(gif_dir)\n",
    "\n",
    "for i, threshold_da in enumerate(applevalley_flood_dictionary['threshold_lidar_das']):\n",
    "    # Make plot\n",
    "    fig, ax = plt.subplots(1, 1, figsize=(10, 6))\n",
    "    im = applevalley_flood_dictionary['threshold_lidar_das'][i].plot(ax=ax, add_colorbar=False, \n",
    "                      cmap='gist_earth', robust=True, vmin = 0, vmax = 25)\n",
    "    cbar = fig.colorbar(im)\n",
    "    cbar.set_label('Relative Elevation (m)', fontsize=14)\n",
    "    ax.set_title('Inundation at {} over increasing water levels'.format(site),\n",
    "          fontsize=16)\n",
    "    ax.xaxis.set_tick_params(labelbottom=False)\n",
    "    ax.yaxis.set_tick_params(labelleft=False)\n",
    "    ax.set_xticks([])\n",
    "    ax.set_yticks([])\n",
    "    ax.legend('off')\n",
    "    ax.axis('off')\n",
    "    plt.show()\n",
    "    # Save to path\n",
    "    fig_path=os.path.join(gif_dir, 'applevalley_step_{}.jpg'.format(i))\n",
    "    fig.savefig(fig_path)\n",
    "    #clear_output()"
   ]
  },
  {
   "cell_type": "code",
   "execution_count": null,
   "id": "28a1b097",
   "metadata": {},
   "outputs": [],
   "source": [
    "# Delete this cell\n",
    "# Save frames as gif\n",
    "import glob\n",
    "from PIL import Image\n",
    "gif_dir = 'applevalley_gif'\n",
    "frames=[]\n",
    "#def make_gif(frame_folder):\n",
    "for image in glob.glob(gif_dir + '/*.jpg'):\n",
    "    frames.append(Image.open(image))\n",
    "\n",
    "        \n",
    "frame_one = frames[0]\n",
    "frame_one.save(\"applevalley_flood.gif\", format=\"GIF\", append_images=frames,\n",
    "               save_all=True, duration=10, loop=0)"
   ]
  },
  {
   "cell_type": "markdown",
   "id": "840f8cf6",
   "metadata": {},
   "source": [
    "## Comparing LiDAR and UAV Outputs\n",
    "Are the inundated areas estimated with the UAV and LiDAR outputs comparable?\n",
    "* The \"rate\" of inundation is similar between the UAV and LiDAR data, indicating that the REMs had similar distributions and corroborates the histograms.\n",
    "* The area of inundation is lower for the LiDAR compared with the UAV data. This could be due to a lack of accuracy in the LiDAR data due to lack of reference points and could probably be corrected by using ground control points if available."
   ]
  },
  {
   "cell_type": "code",
   "execution_count": null,
   "id": "94f663d5",
   "metadata": {},
   "outputs": [],
   "source": [
    "# Optional -?\n",
    "# Plot of UAV vs LiDAR Inundated Area for one site\n",
    "fig, (ax1, ax2) = plt.subplots(1, 2, figsize=(18, 8))\n",
    "fig.suptitle('Inundated Area estimated by LiDAR and UAV REMs '\n",
    "             'vs Water Level at the Highway 93 Site', fontsize = 24)\n",
    "ax1.scatter(threshold_values, \n",
    "            highway93_flood_dictionary['uav_area_list'], color='red')\n",
    "ax1.set_ylabel('Inundated Area Based on UAV REM (m^2)', fontsize=20)\n",
    "ax1.set_xlabel('Water Level Threshold (m)', fontsize=20)\n",
    "\n",
    "ax2.scatter(threshold_values, \n",
    "            highway93_flood_dictionary['lidar_area_list'],\n",
    "           color='green')\n",
    "ax2.set_ylabel('Inundated Area Based on LiDAR REM (m^2)', fontsize=20)\n",
    "ax2.set_xlabel('Water Level Threshold (m)', fontsize=20)\n",
    "\n",
    "\n",
    "# Plot UAV vs LiDAR Area\n",
    "fig, ax = plt.subplots(figsize=(8, 8))\n",
    "fig.suptitle('Inundated Area estimated by LiDAR vs UAV REMs', \n",
    "             fontsize = 24)\n",
    "ax.scatter(highway93_flood_dictionary['uav_area_list'], \n",
    "           highway93_flood_dictionary['lidar_area_list'],\n",
    "          color='darkblue')\n",
    "ax.plot((0,1), (0,1), transform=ax1.transAxes, ls='--', c='k')\n",
    "\n",
    "ax.set_ylabel('Inundated Area Based on UAV REM (m^2)', fontsize=16)\n",
    "ax.set_xlabel('Inundated Area Based on LiDAR REM (m^2)', fontsize=16)\n",
    "\n",
    "plt.show()"
   ]
  }
 ],
 "metadata": {
  "kernelspec": {
   "display_name": "Python 3 (ipykernel)",
   "language": "python",
   "name": "python3"
  },
  "language_info": {
   "codemirror_mode": {
    "name": "ipython",
    "version": 3
   },
   "file_extension": ".py",
   "mimetype": "text/x-python",
   "name": "python",
   "nbconvert_exporter": "python",
   "pygments_lexer": "ipython3",
   "version": "3.10.10"
  },
  "varInspector": {
   "cols": {
    "lenName": 16,
    "lenType": 16,
    "lenVar": 40
   },
   "kernels_config": {
    "python": {
     "delete_cmd_postfix": "",
     "delete_cmd_prefix": "del ",
     "library": "var_list.py",
     "varRefreshCmd": "print(var_dic_list())"
    },
    "r": {
     "delete_cmd_postfix": ") ",
     "delete_cmd_prefix": "rm(",
     "library": "var_list.r",
     "varRefreshCmd": "cat(var_dic_list()) "
    }
   },
   "types_to_exclude": [
    "module",
    "function",
    "builtin_function_or_method",
    "instance",
    "_Feature"
   ],
   "window_display": false
  }
 },
 "nbformat": 4,
 "nbformat_minor": 5
}
